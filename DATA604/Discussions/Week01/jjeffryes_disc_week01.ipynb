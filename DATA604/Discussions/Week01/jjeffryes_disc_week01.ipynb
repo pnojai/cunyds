{
 "cells": [
  {
   "cell_type": "markdown",
   "metadata": {},
   "source": [
    "## Discussion 1\n",
    "Write a simulation for a simple game of chance (e.g., drawing cards,\n",
    "rolling one or more dice, etc.)  Run the simulation 1000 times and\n",
    "interpret the outcome.  Post your code here, and discuss what might be\n",
    "done to improve it."
   ]
  },
  {
   "cell_type": "code",
   "execution_count": 1,
   "metadata": {},
   "outputs": [
    {
     "name": "stdout",
     "output_type": "stream",
     "text": [
      "PROBABILITY OF HEADS\n",
      "0.46\n",
      "HEADS\n",
      "466\n",
      "TAILS\n",
      "9534\n",
      "ACTUAL PROPORTION OF HEADS\n",
      "0.466\n"
     ]
    }
   ],
   "source": [
    "from modsim import *\n",
    "import numpy as np\n",
    "\n",
    "p = 0.46\n",
    "unfair_coin = []\n",
    "for i in range(1000):\n",
    "    # True = Heads, False = Tails\n",
    "    unfair_coin.append(flip(p))\n",
    "\n",
    "print('PROBABILITY OF HEADS')\n",
    "print(p)\n",
    "print('HEADS')\n",
    "print(sum(unfair_coin))\n",
    "print('TAILS')\n",
    "print(10000 - sum(unfair_coin))\n",
    "print('ACTUAL PROPORTION OF HEADS')\n",
    "print(sum(unfair_coin) / 1000)"
   ]
  },
  {
   "cell_type": "code",
   "execution_count": null,
   "metadata": {},
   "outputs": [],
   "source": []
  },
  {
   "cell_type": "code",
   "execution_count": null,
   "metadata": {},
   "outputs": [],
   "source": []
  },
  {
   "cell_type": "code",
   "execution_count": null,
   "metadata": {},
   "outputs": [],
   "source": []
  }
 ],
 "metadata": {
  "kernelspec": {
   "display_name": "Python 3",
   "language": "python",
   "name": "python3"
  },
  "language_info": {
   "codemirror_mode": {
    "name": "ipython",
    "version": 3
   },
   "file_extension": ".py",
   "mimetype": "text/x-python",
   "name": "python",
   "nbconvert_exporter": "python",
   "pygments_lexer": "ipython3",
   "version": "3.7.6"
  }
 },
 "nbformat": 4,
 "nbformat_minor": 4
}
