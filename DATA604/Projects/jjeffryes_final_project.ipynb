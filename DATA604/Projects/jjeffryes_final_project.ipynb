{
 "cells": [
  {
   "cell_type": "markdown",
   "metadata": {},
   "source": [
    "# DATA 604 Final Project\n",
    "## Introduction to compartmental models of infectious disease outbreak\n",
    "Jai Jeffryes"
   ]
  },
  {
   "cell_type": "markdown",
   "metadata": {},
   "source": [
    "## Introduction\n",
    "A compartmental model abstracts a system into categories representing states of interest and explores the transitions between states. A simple beginning for modeling an outbreak of infectious disease is to divide a population into three categories.\n",
    "\n",
    "- Susceptible (S).\n",
    "- Infected (I).\n",
    "- Removed or Recovered (R).\n",
    "\n",
    "See the accompanying processing flowchart and the stock-and-flow diagram.\n",
    "\n",
    "Additional categories or flows can appear in a model to represent various characteristics of diseases, like transmissability or duration of immunity. For example, the dynamic of an incubation period preceding transmissibility of infection can be represented through addition of a compartment of Exposed (E), thus an SEIR model, or the expiration of immunity can be represented by a flow returning to Susceptible, thus SIRS.\n",
    "\n",
    "This project implements an SIR model of infectious disease transmission. Compartmental models such as the SIR model are deterministic. They emphasize average effects and work best in large populations where infection risks are fairly homogenous. [1]\n",
    "\n",
    "The simplest SIR model is based on several assumptions.\n",
    "\n",
    "- Population is constant. It does not consider births and deaths.\n",
    "- Immunity, once acquired upon recovery, endures forever.\n",
    "- The population is well mixed. An individual has equal probability of contact with all other members of the population.\n",
    "\n",
    "This project explores the assumption about mixing. Under normal circumstances, non-household daily contacts exceed household contacts. Lockdown measures reduce non-household contacts to a level similar to or below household contacts. This can be modeled and compared to the simple SIR model."
   ]
  },
  {
   "cell_type": "markdown",
   "metadata": {},
   "source": [
    "## Materials and methods\n",
    "### Study design, settings, and data\n",
    "### Simulation Sets, Parameters, Stochastic Variables, Deterministic Variables, Formulae, and Flowcharts\n",
    "\n",
    "### To do\n",
    "- Calculate $R_0$.\n",
    "  - $R_0 = \\frac{\\beta S(0)}{\\gamma}$\n",
    "- Calculate critical immunization threshold.\n",
    "  - $\\beta (1 - q) \\frac{S(0)}{\\gamma} < 1 \\iff q > 1 - \\frac{1}{R_0}$\n",
    "  - $P_c = 1 - \\frac{1}{R_0}$\n",
    "\n",
    "- Sets\n",
    "  - *t*: counts the time periods.\n",
    "- Parameters\n",
    "  - $\\beta$. The average transmission rate between an infected individual and a susceptible one.\n",
    "  - $\\gamma$.\n",
    "  - $\\rho$. The fraction of susceptible individuals who get vaccinated and assuming the vaccine is 100% effective.\n",
    "- Formulae. The SIR model is the following system of quadratic Ordinary Differential Equations.\n",
    "  - $\\frac{dS}{dt} = -\\beta S I$\n",
    "  - $\\frac{dI}{dt} = \\beta S I - \\gamma I$\n",
    "  - $\\frac{dR}{dt} = \\gamma I$\n",
    "- Dempsey\n",
    "  - Parameters\n",
    "    - $h_s$. Average household size.\n",
    "    - $\\beta_c$. The average transmission rate between an infected individual and a susceptible one in the community.\n",
    "    - $\\beta_h$. The average transmission rate between an infected individual and a susceptible one in a household setting.\n",
    "    - $k$. Average number of contacts.\n",
    "    - $C_c$. Cases who acquired infection via the community.\n",
    "    - $C_h$. Cases who acquired infection via their household.\n",
    "  - Formulae\n",
    "    - $\\frac{dS}{dt} = -\\beta k I S$. Unadjusted rate of change in susceptibility.\n",
    "    - $\\frac{dC_c}{dt} = \\beta_c (k - h_s + 1) I S$. The rate of increase in community cases amongst the $(k - h + 1)$ non-household contacts.\n",
    "    - $(h_s - 1) C_c$. The maximum number of household acquired infections in a population. This can be used as a carrying capacity on the growth rate of household infections.\n",
    "    - $\\frac{dC_h}{dt} = \\beta_h (h - 1) I S (1 - \\frac{C_h}{(h_s - 1) C_c})$\n",
    "    - $\\frac{dS}{dt} = -\\beta k I S - \\beta_h (h - 1) I S (1 - \\frac{C_h}{(h_s - 1) C_c})$"
   ]
  },
  {
   "cell_type": "markdown",
   "metadata": {},
   "source": [
    "## Initialize environment"
   ]
  },
  {
   "cell_type": "code",
   "execution_count": 1,
   "metadata": {},
   "outputs": [],
   "source": [
    "from modsim import *"
   ]
  },
  {
   "cell_type": "markdown",
   "metadata": {},
   "source": [
    "## Initialize system variables"
   ]
  },
  {
   "cell_type": "code",
   "execution_count": 2,
   "metadata": {},
   "outputs": [],
   "source": [
    "def make_system(beta, gamma):\n",
    "    init = State(S=49999, I=1, R=0)\n",
    "    init /= sum(init)\n",
    "    t0 = 0\n",
    "    t_end = 175\n",
    "    \n",
    "    return System(init=init, t0=t0, t_end=t_end,\n",
    "                  beta=beta, gamma=gamma)"
   ]
  },
  {
   "cell_type": "markdown",
   "metadata": {},
   "source": [
    "## Update state variables"
   ]
  },
  {
   "cell_type": "code",
   "execution_count": 3,
   "metadata": {},
   "outputs": [],
   "source": [
    "def update_func(state, t, system):\n",
    "    s, i, r = state\n",
    "    infected = system.beta * i * s\n",
    "    recovered = system.gamma * i\n",
    "    s -= infected\n",
    "    i += infected - recovered\n",
    "    r += recovered\n",
    "    \n",
    "    return State(S=s, I=i, R=r)"
   ]
  },
  {
   "cell_type": "markdown",
   "metadata": {},
   "source": [
    "## Simulation function"
   ]
  },
  {
   "cell_type": "code",
   "execution_count": 4,
   "metadata": {},
   "outputs": [],
   "source": [
    "################ RUN SIMULATION WITH TIME FRAME #####################\n",
    "def run_simulation(system, update_func):\n",
    "    frame = TimeFrame(columns=system.init.index)\n",
    "    frame.row[system.t0] = system.init\n",
    "\n",
    "    for t in linrange(system.t0, system.t_end):\n",
    "        frame.row[t+1] = update_func(frame.row[t], t, system)\n",
    "\n",
    "    return frame"
   ]
  },
  {
   "cell_type": "markdown",
   "metadata": {},
   "source": [
    "## Visualization function"
   ]
  },
  {
   "cell_type": "code",
   "execution_count": 5,
   "metadata": {},
   "outputs": [],
   "source": [
    "def plot_results(S, I, R):\n",
    "    plot(S, '--', label='Susceptible')\n",
    "    plot(I, '-', label='Infected')\n",
    "    plot(R, ':', label='Resistant')\n",
    "    decorate(xlabel='Time (days)',\n",
    "              ylabel='Fraction of population')"
   ]
  },
  {
   "cell_type": "markdown",
   "metadata": {},
   "source": [
    "## Initialize variables"
   ]
  },
  {
   "cell_type": "code",
   "execution_count": 6,
   "metadata": {},
   "outputs": [],
   "source": [
    "tc = 3             # time between contacts in days\n",
    "tr = 4             # recovery time in days\n",
    "#beta = 1 / tc      # contact rate per day\n",
    "beta = 0.238\n",
    "#gamma = 1 / tr     # recovery rate per day\n",
    "gamma = 0.0714"
   ]
  },
  {
   "cell_type": "markdown",
   "metadata": {},
   "source": [
    "## Run simulation"
   ]
  },
  {
   "cell_type": "code",
   "execution_count": 7,
   "metadata": {},
   "outputs": [
    {
     "data": {
      "image/png": "[encoded data removed]",
      "text/plain": [
       "<Figure size 432x288 with 1 Axes>"
      ]
     },
     "metadata": {},
     "output_type": "display_data"
    }
   ],
   "source": [
    "system = make_system(beta, gamma)\n",
    "results = run_simulation(system, update_func)\n",
    "plot_results(results.S, results.I, results.R)"
   ]
  },
  {
   "cell_type": "markdown",
   "metadata": {},
   "source": [
    "## References\n",
    "  1. [PRISM Modeling Guidelines](http://prism.edu.au/wp-content/uploads/2016/09/PRISM_Modelling-guidelines-web.pdf).\n",
    "\n",
    " - [Compartmental models in epidemiology (Wikipedia)](https://en.wikipedia.org/wiki/Compartmental_models_in_epidemiology).\n",
    " - [The SIR Model for spread of disease](https://www.maa.org/press/periodicals/loci/joma/the-sir-model-for-spread-of-disease-introduction). Allen Downey's reference for his case study.\n",
    " - [NISS/ASA Tutorial on Susceptible-Infected-Recovered (SIR) Modeling](https://www.niss.org/events/nissasa-tutorial-susceptible-infected-recovered-sir-modeling). I missed the session, but this page has all the links to papers and a Shiny App. This is the most accessible model for starting out.\n",
    "   - [NISS blog post](https://www.niss.org/news/susceptible-infected-recovered-sir-modeling-focus-nissasa-tutorial). This press release says a video of the session will be available on July 30th.\n",
    "   - [Tutorial slides](https://www.niss.org/sites/default/files/SIR_Modeling_tutorial_ob.pdf).\n",
    "   - [Code on GitHub](https://github.com/pnojai/posepi1).\n",
    "   - [Shiny App](https://shiny.bcgsc.ca/posepi1/).\n",
    "   - [The SIR model and the foundations of public health](http://mat.uab.cat/web/matmat/wp-content/uploads/sites/23/2020/05/v2013n03.pdf). Howard (Howie) Weiss. Very good orientation.\n",
    " - [Prism site](http://prism.edu.au). PRISM, the Centre for Research Excellence in Policy Relevant Infectious diseases Simulation and Mathematical Modelling in Australia.\n",
    "   - [A User's Guide to Infectious Disease Modeling](http://prism.edu.au/wp-content/uploads/2016/09/PRISM_Modelling-guidelines-web.pdf). This manual is an excellent domain orientation.\n",
    " - Paul Dempsey's modified SIR model, exploring household and non-household contributions to case count under lockdown.\n",
    "   - [Modifying SEIR models to explore the role of average household size in the era of lockdowns and social distancing](https://osf.io/sa8jk/)\n",
    "   - [Paul Dempsey's model](http://covid19.dazult.com/index.html).\n",
    " - [Modeling COVID-19 Spread vs Healthcare Capacity](https://alhill.shinyapps.io/COVID19seir/). Shiny App to predict COVID-19 cases by clinical outcome. Comes with a well-documented tutorial.\n",
    "   - [Code on GitHub](https://github.com/alsnhll/SEIR_COVID19).\n",
    " - [Forecasting COVID-19](https://robjhyndman.com/hyndsight/forecasting-covid19/). Rob Hyndman's assessment of model challenges. Includes a comparison of compartmental and agent-based models.\n",
    " - [Social distancing and mobility reductions have reduced COVID-19 transmission in King County, WA](https://covid.idmod.org/data/Social_distancing_mobility_reductions_reduced_COVID_Seattle.pdf). The study estimates the reproductive number from case data. It employs a distinctive SEIR model and documents the equations.\n",
    " - [COVID-19: Modeling Distributions of Incubation and Recovery Times](https://blog.iseesystems.com/stella-ithink/covid-19-modeling-distributions-of-incubation-and-recovery-times/). Stock and flow diagrams. Although the flows use inappropriate diagrammatic notation, they convey an idea. The article includes delays for state changes.\n",
    " - [Report 9: Impact of non-pharmaceutical interventions (NPIs) to reduce COVID-19 mortality and healthcare demand](https://www.imperial.ac.uk/media/imperial-college/medicine/sph/ide/gida-fellowships/Imperial-College-COVID19-NPI-modelling-16-03-2020.pdf). Neil Ferguson's analysis from March 2020.\n"
   ]
  },
  {
   "cell_type": "code",
   "execution_count": null,
   "metadata": {},
   "outputs": [],
   "source": []
  },
  {
   "cell_type": "code",
   "execution_count": null,
   "metadata": {},
   "outputs": [],
   "source": []
  }
 ],
 "metadata": {
  "kernelspec": {
   "display_name": "Python 3",
   "language": "python",
   "name": "python3"
  },
  "language_info": {
   "codemirror_mode": {
    "name": "ipython",
    "version": 3
   },
   "file_extension": ".py",
   "mimetype": "text/x-python",
   "name": "python",
   "nbconvert_exporter": "python",
   "pygments_lexer": "ipython3",
   "version": "3.7.6"
  }
 },
 "nbformat": 4,
 "nbformat_minor": 4
}
